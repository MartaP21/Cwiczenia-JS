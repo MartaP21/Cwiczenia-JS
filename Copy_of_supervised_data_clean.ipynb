{
  "cells": [
    {
      "cell_type": "markdown",
      "metadata": {
        "id": "view-in-github",
        "colab_type": "text"
      },
      "source": [
        "<a href=\"https://colab.research.google.com/github/MartaP21/Cwiczenia-JS/blob/master/Copy_of_supervised_data_clean.ipynb\" target=\"_parent\"><img src=\"https://colab.research.google.com/assets/colab-badge.svg\" alt=\"Open In Colab\"/></a>"
      ]
    },
    {
      "cell_type": "markdown",
      "id": "5da5e3ea",
      "metadata": {
        "id": "5da5e3ea"
      },
      "source": [
        "# Przygotowanie danych i klasyfikacja zgłoszeń IT"
      ]
    },
    {
      "cell_type": "markdown",
      "id": "d1ed9bb0",
      "metadata": {
        "id": "d1ed9bb0"
      },
      "source": [
        "## 🛠️ 1. Import bibliotek\n",
        "\n",
        "Ładujemy wszystkie narzędzia potrzebne do analizy i budowy modelu: pandas, numpy, scikit-learn, matplotlib i seaborn.\n",
        "\n",
        "### 📖 Wytłumaczenie:\n",
        "Bez bibliotek nie ruszymy dalej. Pandas do danych, sklearn do ML, matplotlib i seaborn do wizualizacji wyników.\n",
        "\n",
        "### 💡 Ćwiczenie:\n",
        "Dodaj `import random` i użyj `random.randint(1, 10)` do wylosowania liczby.\n"
      ]
    },
    {
      "cell_type": "code",
      "execution_count": null,
      "id": "020ab57e",
      "metadata": {
        "id": "020ab57e"
      },
      "outputs": [],
      "source": [
        "import pandas as pd\n",
        "import numpy as np\n",
        "import re\n",
        "from sklearn.model_selection import train_test_split\n",
        "from sklearn.feature_extraction.text import TfidfVectorizer\n",
        "from sklearn.linear_model import LogisticRegression\n",
        "from sklearn.metrics import classification_report, confusion_matrix\n",
        "import matplotlib.pyplot as plt\n",
        "import seaborn as sns"
      ]
    },
    {
      "cell_type": "markdown",
      "id": "ff7d7ce3",
      "metadata": {
        "id": "ff7d7ce3"
      },
      "source": [
        "## 📝 2. Stworzenie przykładowych danych tekstowych\n",
        "\n",
        "Budujemy prosty zbiór zgłoszeń IT: opis + kategoria (\"Sprzęt\", \"Sieć\", itd.).\n",
        "\n",
        "### 📖 Wytłumaczenie:\n",
        "Tworzymy miniaturową bazę danych zgłoszeń, na której będziemy trenować nasz model ML.\n",
        "\n",
        "### 💡 Ćwiczenie:\n",
        "Dodaj 2 własne zgłoszenia – jedno typowo techniczne, drugie bardziej ogólne.\n"
      ]
    },
    {
      "cell_type": "code",
      "execution_count": null,
      "id": "556ac7c6",
      "metadata": {
        "id": "556ac7c6"
      },
      "outputs": [],
      "source": [
        "texts = [\n",
        "    \"Drukarka nie drukuje\",                         # Sprzęt\n",
        "    \"Awaria drukarki HP\",                            # Sprzęt\n",
        "    \"Drukarki HP działają niepoprawnie\",             # Sprzęt\n",
        "    \"Reklamacja niedziałającego routera\",            # Sprzęt\n",
        "    \"Problem z nowym monitorem\",                     # Sprzęt\n",
        "    \"Resetowanie hasła\",                             # Konto\n",
        "    \"Nie mogę się zalogować\",                        # Konto\n",
        "    \"Problem z logowaniem do systemu\",               # Konto\n",
        "    \"Blokada konta po wielu próbach logowania\",      # Konto\n",
        "    \"Prośba o zmianę uprawnień w systemie\",           # Konto\n",
        "    \"Zmiana ustawień sieciowych\",                    # Sieć\n",
        "    \"Problem z internetem\",                          # Sieć\n",
        "    \"VPN przerywa połączenie\",                       # Sieć\n",
        "    \"Brak dostępu do zasobów sieciowych\",             # Sieć\n",
        "    \"Problem z połączeniem WiFi\",                    # Sieć\n",
        "    \"Problem z funkcjonalnością aplikacji\",          # Oprogramowanie\n",
        "    \"Błąd działania aplikacji CRM\",                  # Oprogramowanie\n",
        "    \"System ERP nie odpowiada\",                      # Oprogramowanie\n",
        "    \"Zgłoszenie błędu w aplikacji mobilnej\",          # Oprogramowanie\n",
        "    \"Nie działa aktualizacja programu\",              # Oprogramowanie\n",
        "]\n",
        "\n",
        "labels = [\n",
        "    \"Sprzęt\", \"Sprzęt\", \"Sprzęt\", \"Sprzęt\", \"Sprzęt\",\n",
        "    \"Konto\", \"Konto\", \"Konto\", \"Konto\", \"Konto\",\n",
        "    \"Sieć\", \"Sieć\", \"Sieć\", \"Sieć\", \"Sieć\",\n",
        "    \"Oprogramowanie\", \"Oprogramowanie\", \"Oprogramowanie\", \"Oprogramowanie\", \"Oprogramowanie\"\n",
        "]"
      ]
    },
    {
      "cell_type": "markdown",
      "id": "f1261f8b",
      "metadata": {
        "id": "f1261f8b"
      },
      "source": [
        "## 🧹 3. Proste czyszczenie tekstu\n",
        "\n",
        "Tworzymy funkcję czyszczącą: małe litery, usunięcie znaków specjalnych, usunięcie zbędnych spacji.\n",
        "\n",
        "### 📖 Wytłumaczenie:\n",
        "Przed uczeniem musimy \"uprasować\" dane — model lepiej działa na czystym, jednolitym tekście.\n",
        "\n",
        "### 💡 Ćwiczenie:\n",
        "Dodaj usuwanie cyfr (`\\d`) w funkcji czyszczącej.\n"
      ]
    },
    {
      "cell_type": "code",
      "execution_count": null,
      "id": "85ab12d6",
      "metadata": {
        "id": "85ab12d6"
      },
      "outputs": [],
      "source": [
        "def clean_text(text):\n",
        "    text = text.lower()\n",
        "    text = re.sub(r'[^\\w\\s]', '', text)\n",
        "    text = text.strip()\n",
        "    return text"
      ]
    },
    {
      "cell_type": "markdown",
      "id": "d0b95234",
      "metadata": {
        "id": "d0b95234"
      },
      "source": [
        "## 🔤 4. Pseudo-lematyzacja dla polskiego\n",
        "\n",
        "Budujemy prostą mapę zamian słów na ich podstawowe formy (\"drukarki\" → \"drukarka\").\n",
        "\n",
        "### 📖 Wytłumaczenie:\n",
        "Dzięki lematyzacji model rozpozna różne odmiany tych samych wyrazów jako to samo znaczenie.\n",
        "\n",
        "### 💡 Ćwiczenie:\n",
        "Dodaj własną zamianę np. `\"routery\": \"router\"`.\n"
      ]
    },
    {
      "cell_type": "code",
      "execution_count": null,
      "id": "ebf7fc4e",
      "metadata": {
        "id": "ebf7fc4e"
      },
      "outputs": [],
      "source": [
        "lemma_map = {\n",
        "    \"drukarki\": \"drukarka\",\n",
        "    \"drukarce\": \"drukarka\",\n",
        "    \"drukarkę\": \"drukarka\",\n",
        "    \"funkcjonalności\": \"funkcjonalność\",\n",
        "    \"ustawien\": \"ustawienia\"\n",
        "}\n",
        "\n",
        "def apply_lemma(text):\n",
        "    for key, val in lemma_map.items():\n",
        "        text = text.replace(key, val)\n",
        "    return text"
      ]
    },
    {
      "cell_type": "markdown",
      "id": "46ba25c4",
      "metadata": {
        "id": "46ba25c4"
      },
      "source": [
        "## 🔄 5. Zastosowanie czyszczenia i lematyzacji\n",
        "\n",
        "Łączymy czyszczenie i mapowanie — przygotowujemy końcowe dane do nauki.\n",
        "\n",
        "### 📖 Wytłumaczenie:\n",
        "Każde zgłoszenie przechodzi przez funkcję czyszczenia i lematyzacji. Dzięki temu model dostanie dane wysokiej jakości.\n",
        "\n",
        "### 💡 Ćwiczenie:\n",
        "Wydrukuj pierwsze zgłoszenie przed i po czyszczeniu, aby zobaczyć efekt.\n"
      ]
    },
    {
      "cell_type": "code",
      "execution_count": null,
      "id": "46554ac7",
      "metadata": {
        "id": "46554ac7"
      },
      "outputs": [],
      "source": [
        "texts_cleaned = [apply_lemma(clean_text(t)) for t in texts]"
      ]
    },
    {
      "cell_type": "markdown",
      "id": "67cc84dd",
      "metadata": {
        "id": "67cc84dd"
      },
      "source": [
        "## ✂️ 6. Podział na zbiory treningowe i testowe\n",
        "\n",
        "Dzielimy dane na część do nauki i część do testowania.\n",
        "\n",
        "### 📖 Wytłumaczenie:\n",
        "Dzięki podziałowi sprawdzimy, czy model naprawdę nauczył się generalizować, a nie tylko zapamiętał dane.\n",
        "\n",
        "### 💡 Ćwiczenie:\n",
        "Zmień `test_size` na `0.5` i sprawdź jak zmieni się skuteczność modelu.\n"
      ]
    },
    {
      "cell_type": "code",
      "execution_count": null,
      "id": "b81f26f4",
      "metadata": {
        "id": "b81f26f4"
      },
      "outputs": [],
      "source": [
        "X_train, X_test, y_train, y_test = train_test_split(\n",
        "    texts_cleaned, labels, test_size=0.3, random_state=42, stratify=labels\n",
        ")"
      ]
    },
    {
      "cell_type": "markdown",
      "id": "7628bc39",
      "metadata": {
        "id": "7628bc39"
      },
      "source": [
        "## 🔢 7. Przekształcenie tekstu na liczby (TF-IDF)\n",
        "\n",
        "Przekształcamy tekst na liczby, aby model mógł z nimi pracować.\n",
        "\n",
        "### 📖 Wytłumaczenie:\n",
        "Komputer nie rozumie tekstu — zamieniamy zgłoszenia na macierze liczb reprezentujących ważność słów.\n",
        "\n",
        "### 💡 Ćwiczenie:\n",
        "Użyj parametru `stop_words='english'` i zobacz, czy coś się zmieni (nawet jeśli dane są po polsku).\n"
      ]
    },
    {
      "cell_type": "code",
      "execution_count": null,
      "id": "71fd6207",
      "metadata": {
        "id": "71fd6207"
      },
      "outputs": [],
      "source": [
        "vectorizer = TfidfVectorizer()\n",
        "X_train_vec = vectorizer.fit_transform(X_train)\n",
        "X_test_vec = vectorizer.transform(X_test)"
      ]
    },
    {
      "cell_type": "markdown",
      "id": "247d0396",
      "metadata": {
        "id": "247d0396"
      },
      "source": [
        "## 🧠 8. Trenowanie modelu klasyfikacyjnego\n",
        "\n",
        "Budujemy model regresji logistycznej i uczymy go na przygotowanych danych.\n",
        "\n",
        "### 📖 Wytłumaczenie:\n",
        "Model uczy się rozpoznawać wzorce między opisami zgłoszeń a kategoriami.\n",
        "\n",
        "### 💡 Ćwiczenie:\n",
        "Zamień `LogisticRegression()` na `DecisionTreeClassifier()` i porównaj wyniki.\n"
      ]
    },
    {
      "cell_type": "code",
      "execution_count": null,
      "id": "75f1e730",
      "metadata": {
        "colab": {
          "base_uri": "https://localhost:8080/",
          "height": 80
        },
        "id": "75f1e730",
        "outputId": "8eca0141-5c13-4a2f-f6aa-b156a2e027a7"
      },
      "outputs": [
        {
          "output_type": "execute_result",
          "data": {
            "text/plain": [
              "LogisticRegression()"
            ],
            "text/html": [
              "<style>#sk-container-id-1 {\n",
              "  /* Definition of color scheme common for light and dark mode */\n",
              "  --sklearn-color-text: #000;\n",
              "  --sklearn-color-text-muted: #666;\n",
              "  --sklearn-color-line: gray;\n",
              "  /* Definition of color scheme for unfitted estimators */\n",
              "  --sklearn-color-unfitted-level-0: #fff5e6;\n",
              "  --sklearn-color-unfitted-level-1: #f6e4d2;\n",
              "  --sklearn-color-unfitted-level-2: #ffe0b3;\n",
              "  --sklearn-color-unfitted-level-3: chocolate;\n",
              "  /* Definition of color scheme for fitted estimators */\n",
              "  --sklearn-color-fitted-level-0: #f0f8ff;\n",
              "  --sklearn-color-fitted-level-1: #d4ebff;\n",
              "  --sklearn-color-fitted-level-2: #b3dbfd;\n",
              "  --sklearn-color-fitted-level-3: cornflowerblue;\n",
              "\n",
              "  /* Specific color for light theme */\n",
              "  --sklearn-color-text-on-default-background: var(--sg-text-color, var(--theme-code-foreground, var(--jp-content-font-color1, black)));\n",
              "  --sklearn-color-background: var(--sg-background-color, var(--theme-background, var(--jp-layout-color0, white)));\n",
              "  --sklearn-color-border-box: var(--sg-text-color, var(--theme-code-foreground, var(--jp-content-font-color1, black)));\n",
              "  --sklearn-color-icon: #696969;\n",
              "\n",
              "  @media (prefers-color-scheme: dark) {\n",
              "    /* Redefinition of color scheme for dark theme */\n",
              "    --sklearn-color-text-on-default-background: var(--sg-text-color, var(--theme-code-foreground, var(--jp-content-font-color1, white)));\n",
              "    --sklearn-color-background: var(--sg-background-color, var(--theme-background, var(--jp-layout-color0, #111)));\n",
              "    --sklearn-color-border-box: var(--sg-text-color, var(--theme-code-foreground, var(--jp-content-font-color1, white)));\n",
              "    --sklearn-color-icon: #878787;\n",
              "  }\n",
              "}\n",
              "\n",
              "#sk-container-id-1 {\n",
              "  color: var(--sklearn-color-text);\n",
              "}\n",
              "\n",
              "#sk-container-id-1 pre {\n",
              "  padding: 0;\n",
              "}\n",
              "\n",
              "#sk-container-id-1 input.sk-hidden--visually {\n",
              "  border: 0;\n",
              "  clip: rect(1px 1px 1px 1px);\n",
              "  clip: rect(1px, 1px, 1px, 1px);\n",
              "  height: 1px;\n",
              "  margin: -1px;\n",
              "  overflow: hidden;\n",
              "  padding: 0;\n",
              "  position: absolute;\n",
              "  width: 1px;\n",
              "}\n",
              "\n",
              "#sk-container-id-1 div.sk-dashed-wrapped {\n",
              "  border: 1px dashed var(--sklearn-color-line);\n",
              "  margin: 0 0.4em 0.5em 0.4em;\n",
              "  box-sizing: border-box;\n",
              "  padding-bottom: 0.4em;\n",
              "  background-color: var(--sklearn-color-background);\n",
              "}\n",
              "\n",
              "#sk-container-id-1 div.sk-container {\n",
              "  /* jupyter's `normalize.less` sets `[hidden] { display: none; }`\n",
              "     but bootstrap.min.css set `[hidden] { display: none !important; }`\n",
              "     so we also need the `!important` here to be able to override the\n",
              "     default hidden behavior on the sphinx rendered scikit-learn.org.\n",
              "     See: https://github.com/scikit-learn/scikit-learn/issues/21755 */\n",
              "  display: inline-block !important;\n",
              "  position: relative;\n",
              "}\n",
              "\n",
              "#sk-container-id-1 div.sk-text-repr-fallback {\n",
              "  display: none;\n",
              "}\n",
              "\n",
              "div.sk-parallel-item,\n",
              "div.sk-serial,\n",
              "div.sk-item {\n",
              "  /* draw centered vertical line to link estimators */\n",
              "  background-image: linear-gradient(var(--sklearn-color-text-on-default-background), var(--sklearn-color-text-on-default-background));\n",
              "  background-size: 2px 100%;\n",
              "  background-repeat: no-repeat;\n",
              "  background-position: center center;\n",
              "}\n",
              "\n",
              "/* Parallel-specific style estimator block */\n",
              "\n",
              "#sk-container-id-1 div.sk-parallel-item::after {\n",
              "  content: \"\";\n",
              "  width: 100%;\n",
              "  border-bottom: 2px solid var(--sklearn-color-text-on-default-background);\n",
              "  flex-grow: 1;\n",
              "}\n",
              "\n",
              "#sk-container-id-1 div.sk-parallel {\n",
              "  display: flex;\n",
              "  align-items: stretch;\n",
              "  justify-content: center;\n",
              "  background-color: var(--sklearn-color-background);\n",
              "  position: relative;\n",
              "}\n",
              "\n",
              "#sk-container-id-1 div.sk-parallel-item {\n",
              "  display: flex;\n",
              "  flex-direction: column;\n",
              "}\n",
              "\n",
              "#sk-container-id-1 div.sk-parallel-item:first-child::after {\n",
              "  align-self: flex-end;\n",
              "  width: 50%;\n",
              "}\n",
              "\n",
              "#sk-container-id-1 div.sk-parallel-item:last-child::after {\n",
              "  align-self: flex-start;\n",
              "  width: 50%;\n",
              "}\n",
              "\n",
              "#sk-container-id-1 div.sk-parallel-item:only-child::after {\n",
              "  width: 0;\n",
              "}\n",
              "\n",
              "/* Serial-specific style estimator block */\n",
              "\n",
              "#sk-container-id-1 div.sk-serial {\n",
              "  display: flex;\n",
              "  flex-direction: column;\n",
              "  align-items: center;\n",
              "  background-color: var(--sklearn-color-background);\n",
              "  padding-right: 1em;\n",
              "  padding-left: 1em;\n",
              "}\n",
              "\n",
              "\n",
              "/* Toggleable style: style used for estimator/Pipeline/ColumnTransformer box that is\n",
              "clickable and can be expanded/collapsed.\n",
              "- Pipeline and ColumnTransformer use this feature and define the default style\n",
              "- Estimators will overwrite some part of the style using the `sk-estimator` class\n",
              "*/\n",
              "\n",
              "/* Pipeline and ColumnTransformer style (default) */\n",
              "\n",
              "#sk-container-id-1 div.sk-toggleable {\n",
              "  /* Default theme specific background. It is overwritten whether we have a\n",
              "  specific estimator or a Pipeline/ColumnTransformer */\n",
              "  background-color: var(--sklearn-color-background);\n",
              "}\n",
              "\n",
              "/* Toggleable label */\n",
              "#sk-container-id-1 label.sk-toggleable__label {\n",
              "  cursor: pointer;\n",
              "  display: flex;\n",
              "  width: 100%;\n",
              "  margin-bottom: 0;\n",
              "  padding: 0.5em;\n",
              "  box-sizing: border-box;\n",
              "  text-align: center;\n",
              "  align-items: start;\n",
              "  justify-content: space-between;\n",
              "  gap: 0.5em;\n",
              "}\n",
              "\n",
              "#sk-container-id-1 label.sk-toggleable__label .caption {\n",
              "  font-size: 0.6rem;\n",
              "  font-weight: lighter;\n",
              "  color: var(--sklearn-color-text-muted);\n",
              "}\n",
              "\n",
              "#sk-container-id-1 label.sk-toggleable__label-arrow:before {\n",
              "  /* Arrow on the left of the label */\n",
              "  content: \"▸\";\n",
              "  float: left;\n",
              "  margin-right: 0.25em;\n",
              "  color: var(--sklearn-color-icon);\n",
              "}\n",
              "\n",
              "#sk-container-id-1 label.sk-toggleable__label-arrow:hover:before {\n",
              "  color: var(--sklearn-color-text);\n",
              "}\n",
              "\n",
              "/* Toggleable content - dropdown */\n",
              "\n",
              "#sk-container-id-1 div.sk-toggleable__content {\n",
              "  max-height: 0;\n",
              "  max-width: 0;\n",
              "  overflow: hidden;\n",
              "  text-align: left;\n",
              "  /* unfitted */\n",
              "  background-color: var(--sklearn-color-unfitted-level-0);\n",
              "}\n",
              "\n",
              "#sk-container-id-1 div.sk-toggleable__content.fitted {\n",
              "  /* fitted */\n",
              "  background-color: var(--sklearn-color-fitted-level-0);\n",
              "}\n",
              "\n",
              "#sk-container-id-1 div.sk-toggleable__content pre {\n",
              "  margin: 0.2em;\n",
              "  border-radius: 0.25em;\n",
              "  color: var(--sklearn-color-text);\n",
              "  /* unfitted */\n",
              "  background-color: var(--sklearn-color-unfitted-level-0);\n",
              "}\n",
              "\n",
              "#sk-container-id-1 div.sk-toggleable__content.fitted pre {\n",
              "  /* unfitted */\n",
              "  background-color: var(--sklearn-color-fitted-level-0);\n",
              "}\n",
              "\n",
              "#sk-container-id-1 input.sk-toggleable__control:checked~div.sk-toggleable__content {\n",
              "  /* Expand drop-down */\n",
              "  max-height: 200px;\n",
              "  max-width: 100%;\n",
              "  overflow: auto;\n",
              "}\n",
              "\n",
              "#sk-container-id-1 input.sk-toggleable__control:checked~label.sk-toggleable__label-arrow:before {\n",
              "  content: \"▾\";\n",
              "}\n",
              "\n",
              "/* Pipeline/ColumnTransformer-specific style */\n",
              "\n",
              "#sk-container-id-1 div.sk-label input.sk-toggleable__control:checked~label.sk-toggleable__label {\n",
              "  color: var(--sklearn-color-text);\n",
              "  background-color: var(--sklearn-color-unfitted-level-2);\n",
              "}\n",
              "\n",
              "#sk-container-id-1 div.sk-label.fitted input.sk-toggleable__control:checked~label.sk-toggleable__label {\n",
              "  background-color: var(--sklearn-color-fitted-level-2);\n",
              "}\n",
              "\n",
              "/* Estimator-specific style */\n",
              "\n",
              "/* Colorize estimator box */\n",
              "#sk-container-id-1 div.sk-estimator input.sk-toggleable__control:checked~label.sk-toggleable__label {\n",
              "  /* unfitted */\n",
              "  background-color: var(--sklearn-color-unfitted-level-2);\n",
              "}\n",
              "\n",
              "#sk-container-id-1 div.sk-estimator.fitted input.sk-toggleable__control:checked~label.sk-toggleable__label {\n",
              "  /* fitted */\n",
              "  background-color: var(--sklearn-color-fitted-level-2);\n",
              "}\n",
              "\n",
              "#sk-container-id-1 div.sk-label label.sk-toggleable__label,\n",
              "#sk-container-id-1 div.sk-label label {\n",
              "  /* The background is the default theme color */\n",
              "  color: var(--sklearn-color-text-on-default-background);\n",
              "}\n",
              "\n",
              "/* On hover, darken the color of the background */\n",
              "#sk-container-id-1 div.sk-label:hover label.sk-toggleable__label {\n",
              "  color: var(--sklearn-color-text);\n",
              "  background-color: var(--sklearn-color-unfitted-level-2);\n",
              "}\n",
              "\n",
              "/* Label box, darken color on hover, fitted */\n",
              "#sk-container-id-1 div.sk-label.fitted:hover label.sk-toggleable__label.fitted {\n",
              "  color: var(--sklearn-color-text);\n",
              "  background-color: var(--sklearn-color-fitted-level-2);\n",
              "}\n",
              "\n",
              "/* Estimator label */\n",
              "\n",
              "#sk-container-id-1 div.sk-label label {\n",
              "  font-family: monospace;\n",
              "  font-weight: bold;\n",
              "  display: inline-block;\n",
              "  line-height: 1.2em;\n",
              "}\n",
              "\n",
              "#sk-container-id-1 div.sk-label-container {\n",
              "  text-align: center;\n",
              "}\n",
              "\n",
              "/* Estimator-specific */\n",
              "#sk-container-id-1 div.sk-estimator {\n",
              "  font-family: monospace;\n",
              "  border: 1px dotted var(--sklearn-color-border-box);\n",
              "  border-radius: 0.25em;\n",
              "  box-sizing: border-box;\n",
              "  margin-bottom: 0.5em;\n",
              "  /* unfitted */\n",
              "  background-color: var(--sklearn-color-unfitted-level-0);\n",
              "}\n",
              "\n",
              "#sk-container-id-1 div.sk-estimator.fitted {\n",
              "  /* fitted */\n",
              "  background-color: var(--sklearn-color-fitted-level-0);\n",
              "}\n",
              "\n",
              "/* on hover */\n",
              "#sk-container-id-1 div.sk-estimator:hover {\n",
              "  /* unfitted */\n",
              "  background-color: var(--sklearn-color-unfitted-level-2);\n",
              "}\n",
              "\n",
              "#sk-container-id-1 div.sk-estimator.fitted:hover {\n",
              "  /* fitted */\n",
              "  background-color: var(--sklearn-color-fitted-level-2);\n",
              "}\n",
              "\n",
              "/* Specification for estimator info (e.g. \"i\" and \"?\") */\n",
              "\n",
              "/* Common style for \"i\" and \"?\" */\n",
              "\n",
              ".sk-estimator-doc-link,\n",
              "a:link.sk-estimator-doc-link,\n",
              "a:visited.sk-estimator-doc-link {\n",
              "  float: right;\n",
              "  font-size: smaller;\n",
              "  line-height: 1em;\n",
              "  font-family: monospace;\n",
              "  background-color: var(--sklearn-color-background);\n",
              "  border-radius: 1em;\n",
              "  height: 1em;\n",
              "  width: 1em;\n",
              "  text-decoration: none !important;\n",
              "  margin-left: 0.5em;\n",
              "  text-align: center;\n",
              "  /* unfitted */\n",
              "  border: var(--sklearn-color-unfitted-level-1) 1pt solid;\n",
              "  color: var(--sklearn-color-unfitted-level-1);\n",
              "}\n",
              "\n",
              ".sk-estimator-doc-link.fitted,\n",
              "a:link.sk-estimator-doc-link.fitted,\n",
              "a:visited.sk-estimator-doc-link.fitted {\n",
              "  /* fitted */\n",
              "  border: var(--sklearn-color-fitted-level-1) 1pt solid;\n",
              "  color: var(--sklearn-color-fitted-level-1);\n",
              "}\n",
              "\n",
              "/* On hover */\n",
              "div.sk-estimator:hover .sk-estimator-doc-link:hover,\n",
              ".sk-estimator-doc-link:hover,\n",
              "div.sk-label-container:hover .sk-estimator-doc-link:hover,\n",
              ".sk-estimator-doc-link:hover {\n",
              "  /* unfitted */\n",
              "  background-color: var(--sklearn-color-unfitted-level-3);\n",
              "  color: var(--sklearn-color-background);\n",
              "  text-decoration: none;\n",
              "}\n",
              "\n",
              "div.sk-estimator.fitted:hover .sk-estimator-doc-link.fitted:hover,\n",
              ".sk-estimator-doc-link.fitted:hover,\n",
              "div.sk-label-container:hover .sk-estimator-doc-link.fitted:hover,\n",
              ".sk-estimator-doc-link.fitted:hover {\n",
              "  /* fitted */\n",
              "  background-color: var(--sklearn-color-fitted-level-3);\n",
              "  color: var(--sklearn-color-background);\n",
              "  text-decoration: none;\n",
              "}\n",
              "\n",
              "/* Span, style for the box shown on hovering the info icon */\n",
              ".sk-estimator-doc-link span {\n",
              "  display: none;\n",
              "  z-index: 9999;\n",
              "  position: relative;\n",
              "  font-weight: normal;\n",
              "  right: .2ex;\n",
              "  padding: .5ex;\n",
              "  margin: .5ex;\n",
              "  width: min-content;\n",
              "  min-width: 20ex;\n",
              "  max-width: 50ex;\n",
              "  color: var(--sklearn-color-text);\n",
              "  box-shadow: 2pt 2pt 4pt #999;\n",
              "  /* unfitted */\n",
              "  background: var(--sklearn-color-unfitted-level-0);\n",
              "  border: .5pt solid var(--sklearn-color-unfitted-level-3);\n",
              "}\n",
              "\n",
              ".sk-estimator-doc-link.fitted span {\n",
              "  /* fitted */\n",
              "  background: var(--sklearn-color-fitted-level-0);\n",
              "  border: var(--sklearn-color-fitted-level-3);\n",
              "}\n",
              "\n",
              ".sk-estimator-doc-link:hover span {\n",
              "  display: block;\n",
              "}\n",
              "\n",
              "/* \"?\"-specific style due to the `<a>` HTML tag */\n",
              "\n",
              "#sk-container-id-1 a.estimator_doc_link {\n",
              "  float: right;\n",
              "  font-size: 1rem;\n",
              "  line-height: 1em;\n",
              "  font-family: monospace;\n",
              "  background-color: var(--sklearn-color-background);\n",
              "  border-radius: 1rem;\n",
              "  height: 1rem;\n",
              "  width: 1rem;\n",
              "  text-decoration: none;\n",
              "  /* unfitted */\n",
              "  color: var(--sklearn-color-unfitted-level-1);\n",
              "  border: var(--sklearn-color-unfitted-level-1) 1pt solid;\n",
              "}\n",
              "\n",
              "#sk-container-id-1 a.estimator_doc_link.fitted {\n",
              "  /* fitted */\n",
              "  border: var(--sklearn-color-fitted-level-1) 1pt solid;\n",
              "  color: var(--sklearn-color-fitted-level-1);\n",
              "}\n",
              "\n",
              "/* On hover */\n",
              "#sk-container-id-1 a.estimator_doc_link:hover {\n",
              "  /* unfitted */\n",
              "  background-color: var(--sklearn-color-unfitted-level-3);\n",
              "  color: var(--sklearn-color-background);\n",
              "  text-decoration: none;\n",
              "}\n",
              "\n",
              "#sk-container-id-1 a.estimator_doc_link.fitted:hover {\n",
              "  /* fitted */\n",
              "  background-color: var(--sklearn-color-fitted-level-3);\n",
              "}\n",
              "</style><div id=\"sk-container-id-1\" class=\"sk-top-container\"><div class=\"sk-text-repr-fallback\"><pre>LogisticRegression()</pre><b>In a Jupyter environment, please rerun this cell to show the HTML representation or trust the notebook. <br />On GitHub, the HTML representation is unable to render, please try loading this page with nbviewer.org.</b></div><div class=\"sk-container\" hidden><div class=\"sk-item\"><div class=\"sk-estimator fitted sk-toggleable\"><input class=\"sk-toggleable__control sk-hidden--visually\" id=\"sk-estimator-id-1\" type=\"checkbox\" checked><label for=\"sk-estimator-id-1\" class=\"sk-toggleable__label fitted sk-toggleable__label-arrow\"><div><div>LogisticRegression</div></div><div><a class=\"sk-estimator-doc-link fitted\" rel=\"noreferrer\" target=\"_blank\" href=\"https://scikit-learn.org/1.6/modules/generated/sklearn.linear_model.LogisticRegression.html\">?<span>Documentation for LogisticRegression</span></a><span class=\"sk-estimator-doc-link fitted\">i<span>Fitted</span></span></div></label><div class=\"sk-toggleable__content fitted\"><pre>LogisticRegression()</pre></div> </div></div></div></div>"
            ]
          },
          "metadata": {},
          "execution_count": 9
        }
      ],
      "source": [
        "model = LogisticRegression()\n",
        "model.fit(X_train_vec, y_train)"
      ]
    },
    {
      "cell_type": "markdown",
      "id": "d0395864",
      "metadata": {
        "id": "d0395864"
      },
      "source": [
        "## 📊 9. Ewaluacja modelu\n",
        "\n",
        "Sprawdzamy jak dobrze działa nasz model: wypisujemy raport i tworzymy macierz błędów.\n",
        "\n",
        "### 📖 Wytłumaczenie:\n",
        "Widzimy jakie kategorie model zgaduje dobrze, a jakie źle — i możemy ocenić skuteczność.\n",
        "\n",
        "### 💡 Ćwiczenie:\n",
        "Zmień kolorystykę wykresu confusion matrix (`cmap='Greens'`).\n"
      ]
    },
    {
      "cell_type": "code",
      "execution_count": null,
      "id": "6c766e7c",
      "metadata": {
        "colab": {
          "base_uri": "https://localhost:8080/",
          "height": 837
        },
        "id": "6c766e7c",
        "outputId": "ddbfbb34-c23e-46e8-9022-c4cf6121219f"
      },
      "outputs": [
        {
          "output_type": "stream",
          "name": "stdout",
          "text": [
            "\n",
            "=== Raport klasyfikacji ===\n",
            "                precision    recall  f1-score   support\n",
            "\n",
            "         Konto       0.00      0.00      0.00         2\n",
            "Oprogramowanie       1.00      1.00      1.00         1\n",
            "          Sieć       0.50      0.50      0.50         2\n",
            "        Sprzęt       0.33      1.00      0.50         1\n",
            "\n",
            "      accuracy                           0.50         6\n",
            "     macro avg       0.46      0.62      0.50         6\n",
            "  weighted avg       0.39      0.50      0.42         6\n",
            "\n"
          ]
        },
        {
          "output_type": "stream",
          "name": "stderr",
          "text": [
            "/usr/local/lib/python3.11/dist-packages/sklearn/metrics/_classification.py:1565: UndefinedMetricWarning: Precision is ill-defined and being set to 0.0 in labels with no predicted samples. Use `zero_division` parameter to control this behavior.\n",
            "  _warn_prf(average, modifier, f\"{metric.capitalize()} is\", len(result))\n",
            "/usr/local/lib/python3.11/dist-packages/sklearn/metrics/_classification.py:1565: UndefinedMetricWarning: Precision is ill-defined and being set to 0.0 in labels with no predicted samples. Use `zero_division` parameter to control this behavior.\n",
            "  _warn_prf(average, modifier, f\"{metric.capitalize()} is\", len(result))\n",
            "/usr/local/lib/python3.11/dist-packages/sklearn/metrics/_classification.py:1565: UndefinedMetricWarning: Precision is ill-defined and being set to 0.0 in labels with no predicted samples. Use `zero_division` parameter to control this behavior.\n",
            "  _warn_prf(average, modifier, f\"{metric.capitalize()} is\", len(result))\n"
          ]
        },
        {
          "output_type": "display_data",
          "data": {
            "text/plain": [
              "<Figure size 640x480 with 2 Axes>"
            ],
            "image/png": "[encoded data removed]"
          },
          "metadata": {}
        }
      ],
      "source": [
        "y_pred = model.predict(X_test_vec)\n",
        "\n",
        "print(\"\\n=== Raport klasyfikacji ===\")\n",
        "print(classification_report(y_test, y_pred))\n",
        "\n",
        "cm = confusion_matrix(y_test, y_pred, labels=model.classes_)\n",
        "sns.heatmap(\n",
        "    cm, annot=True, fmt='d', cmap='Blues',\n",
        "    xticklabels=model.classes_, yticklabels=model.classes_\n",
        ")\n",
        "plt.xlabel('Predykcja')\n",
        "plt.ylabel('Prawdziwa klasa')\n",
        "plt.title('Macierz pomyłek')\n",
        "plt.show()"
      ]
    },
    {
      "cell_type": "markdown",
      "id": "edaf7095",
      "metadata": {
        "id": "edaf7095"
      },
      "source": [
        "## 🎯 10. Zadanie otwarte\n",
        "\n",
        "Spróbuj zmodyfikować dane lub słownik lematyzacji i zobacz jak zmienia się skuteczność modelu!\n",
        "\n",
        "### 📖 Wytłumaczenie:\n",
        "Model jest wrażliwy na zmiany danych — możesz sprawdzić jak nowe zgłoszenia wpływają na jego wyniki.\n",
        "\n",
        "### 💡 Ćwiczenie:\n",
        "Dodaj nowe zgłoszenia (np. \"Błąd systemu Windows\") i przypisz kategorię, przetrenuj model ponownie.\n"
      ]
    },
    {
      "cell_type": "code",
      "execution_count": null,
      "id": "8f541af2",
      "metadata": {
        "colab": {
          "base_uri": "https://localhost:8080/"
        },
        "id": "8f541af2",
        "outputId": "098d50d9-6151-4c09-85d7-8b94c61e79ed"
      },
      "outputs": [
        {
          "output_type": "stream",
          "name": "stdout",
          "text": [
            "\n",
            "💡 Zadanie: Spróbuj zmodyfikować listę lemma_map lub zmienić teksty wejściowe, aby zobaczyć jak zmienia się skuteczność modelu!\n"
          ]
        }
      ],
      "source": [
        "print(\"\\n💡 Zadanie: Spróbuj zmodyfikować listę lemma_map lub zmienić teksty wejściowe, \"\n",
        "      \"aby zobaczyć jak zmienia się skuteczność modelu!\")"
      ]
    },
    {
      "cell_type": "code",
      "source": [
        "# 11. Skalowanie na większym zbiorze danych\n",
        "\n",
        "# Wczytanie większego zbioru\n",
        "df_large = pd.read_csv('large_tickets.csv')\n",
        "\n",
        "# Czyszczenie i lematyzacja\n",
        "df_large['text_clean'] = df_large['text'].apply(clean_text).apply(apply_lemma)\n",
        "\n",
        "# Podział na trening/test\n",
        "X_train_large, X_test_large, y_train_large, y_test_large = train_test_split(\n",
        "    df_large['text_clean'], df_large['label'], test_size=0.3, random_state=42, stratify=df_large['label']\n",
        ")\n",
        "\n",
        "# Wektoryzacja\n",
        "X_train_large_vec = vectorizer.fit_transform(X_train_large)\n",
        "X_test_large_vec = vectorizer.transform(X_test_large)\n",
        "\n",
        "# Trenowanie\n",
        "model_large = LogisticRegression()\n",
        "model_large.fit(X_train_large_vec, y_train_large)\n",
        "\n",
        "# Ewaluacja\n",
        "y_pred_large = model_large.predict(X_test_large_vec)\n",
        "print(\"\\n=== Raport klasyfikacji na dużym zbiorze ===\")\n",
        "print(classification_report(y_test_large, y_pred_large, zero_division=0))\n",
        "\n",
        "# Macierz pomyłek\n",
        "cm_large = confusion_matrix(y_test_large, y_pred_large, labels=model_large.classes_)\n",
        "sns.heatmap(cm_large, annot=True, fmt='d', cmap='Blues', xticklabels=model_large.classes_, yticklabels=model_large.classes_)\n",
        "plt.xlabel('Predykcja')\n",
        "plt.ylabel('Prawdziwa klasa')\n",
        "plt.title('Macierz pomyłek na dużym zbiorze')\n",
        "plt.show()\n"
      ],
      "metadata": {
        "colab": {
          "base_uri": "https://localhost:8080/",
          "height": 708
        },
        "id": "WOhtgrwMEAj_",
        "outputId": "f9f21c0e-51fd-4287-a687-42cbe121d378"
      },
      "id": "WOhtgrwMEAj_",
      "execution_count": null,
      "outputs": [
        {
          "output_type": "stream",
          "name": "stdout",
          "text": [
            "\n",
            "=== Raport klasyfikacji na dużym zbiorze ===\n",
            "                precision    recall  f1-score   support\n",
            "\n",
            "         Konto       1.00      1.00      1.00        15\n",
            "Oprogramowanie       1.00      1.00      1.00        15\n",
            "          Sieć       1.00      0.80      0.89        15\n",
            "        Sprzęt       0.83      1.00      0.91        15\n",
            "\n",
            "      accuracy                           0.95        60\n",
            "     macro avg       0.96      0.95      0.95        60\n",
            "  weighted avg       0.96      0.95      0.95        60\n",
            "\n"
          ]
        },
        {
          "output_type": "display_data",
          "data": {
            "text/plain": [
              "<Figure size 640x480 with 2 Axes>"
            ],
            "image/png": "[encoded data removed]"
          },
          "metadata": {}
        }
      ]
    },
    {
      "cell_type": "code",
      "source": [],
      "metadata": {
        "id": "J0eGMzu-ETRZ"
      },
      "id": "J0eGMzu-ETRZ",
      "execution_count": null,
      "outputs": []
    }
  ],
  "metadata": {
    "language_info": {
      "name": "python"
    },
    "colab": {
      "provenance": [],
      "include_colab_link": true
    },
    "kernelspec": {
      "name": "python3",
      "display_name": "Python 3"
    }
  },
  "nbformat": 4,
  "nbformat_minor": 5
}